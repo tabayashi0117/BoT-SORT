{
 "cells": [
  {
   "cell_type": "markdown",
   "metadata": {},
   "source": [
    "# ローカル環境でのトラッキング\n",
    "\n",
    "このノートブックは、BoT-SORT をローカル環境で実行するためのものです。"
   ]
  },
  {
   "cell_type": "markdown",
   "metadata": {},
   "source": [
    "# 事前準備\n",
    "\n",
    "README.md にある Installation の節をよく読んで、BoT-SORT の実行環境を作成してください。\n",
    "\n",
    "## 必要なファイルのダウンロード"
   ]
  },
  {
   "cell_type": "code",
   "execution_count": null,
   "metadata": {
    "executionInfo": {
     "elapsed": 302,
     "status": "ok",
     "timestamp": 1678973502637,
     "user": {
      "displayName": "Shinichiro Tabayashi",
      "userId": "16790243129379089608"
     },
     "user_tz": -540
    },
    "id": "j5BfWhNQ7Or1"
   },
   "outputs": [],
   "source": [
    "# 学習済みモデルを格納するフォルダの作成\n",
    "!mkdir pretrained"
   ]
  },
  {
   "cell_type": "code",
   "execution_count": null,
   "metadata": {
    "colab": {
     "base_uri": "https://localhost:8080/"
    },
    "executionInfo": {
     "elapsed": 2890,
     "status": "ok",
     "timestamp": 1678973505741,
     "user": {
      "displayName": "Shinichiro Tabayashi",
      "userId": "16790243129379089608"
     },
     "user_tz": -540
    },
    "id": "neaR27-V7Owr",
    "outputId": "28050d81-2e16-4a09-88a6-c2a3877983f0"
   },
   "outputs": [],
   "source": [
    "# 学習済みモデルのダウンロード\n",
    "!wget https://github.com/WongKinYiu/yolov7/releases/download/v0.1/yolov7-d6.pt"
   ]
  },
  {
   "cell_type": "code",
   "execution_count": null,
   "metadata": {
    "executionInfo": {
     "elapsed": 214,
     "status": "ok",
     "timestamp": 1678973509313,
     "user": {
      "displayName": "Shinichiro Tabayashi",
      "userId": "16790243129379089608"
     },
     "user_tz": -540
    },
    "id": "_YmaaQGv7Oy9"
   },
   "outputs": [],
   "source": [
    "# 格納\n",
    "!mv yolov7-d6.pt ./pretrained"
   ]
  },
  {
   "cell_type": "markdown",
   "metadata": {},
   "source": [
    "### `mot17_sbs_S50.pth` のダウンロード\n",
    "\n",
    "[こちら](https://drive.google.com/uc?id=1QZFWpoa80rqo7O-HXmlss8J8CnS7IUsN) から `mot17_sbs_S50.pth` をダウンロードして、`./pretrained` 配下に格納してください。"
   ]
  },
  {
   "cell_type": "markdown",
   "metadata": {},
   "source": [
    "# トラッキングの実行\n",
    "\n",
    "`tools/mc_demo_yolov7.py` を実行することでトラッキング処理を行います。\n",
    "\n",
    "### 生成されるファイル\n",
    "\n",
    "[BoT-SORT の 元リポジトリ](https://github.com/NirAharon/BoT-SORT) と異なり、いくつかのファイルが生成されます：\n",
    "\n",
    "- 物体の軌道ログ `./obj_info_{動画名}.csv`\n",
    "- トラッキングIDとバウンディングボックスが描画された動画\n",
    "    - `./runs/detect/exp/` 配下に出力されます。\n",
    "\n",
    "#### 物体の軌道ログ\n",
    "\n",
    "トラッキング処理が完了すると、`obj_info_{動画名}.csv` という csv ファイルが ノートブックと同じ階層に出力されます。\n",
    "\n",
    "このファイルには以下が記録されています：\n",
    "\n",
    "| カラム名    | 説明                                             | \n",
    "| ----------- | ------------------------------------------------ | \n",
    "| img_num     | 動画のフレーム番号（0,1,2,...）                  | \n",
    "| tracking_id | トラッキングの対象となった物体に割り振られたID。 | \n",
    "| obj_type    | 物体の種類                                       | \n",
    "| x1          | バウンディングボックスの左辺の x座標             | \n",
    "| x2          | バウンディングボックスの右辺の x座標             | \n",
    "| x_center    | バウンディングボックスの中心の x座標             | \n",
    "| y1          | バウンディングボックスの左辺の y座標             | \n",
    "| y2          | バウンディングボックスの右辺の y座標             | \n",
    "| y_center    | バウンディングボックスの中心の y座標             | \n",
    "\n",
    "### 動画１つの場合"
   ]
  },
  {
   "cell_type": "code",
   "execution_count": null,
   "metadata": {
    "colab": {
     "base_uri": "https://localhost:8080/"
    },
    "executionInfo": {
     "elapsed": 232959,
     "status": "ok",
     "timestamp": 1678973825575,
     "user": {
      "displayName": "Shinichiro Tabayashi",
      "userId": "16790243129379089608"
     },
     "user_tz": -540
    },
    "id": "-XoerXRLQCAm",
    "outputId": "434c0037-5248-4a72-ee6e-b970643f84d0",
    "scrolled": true,
    "tags": []
   },
   "outputs": [],
   "source": [
    "video_path = \"point_3_6_20221128_0627_1624_20sec.wmv\"\n",
    "\n",
    "!python tools/mc_demo_yolov7.py --weights pretrained/yolov7-d6.pt --source $video_path --fuse-score --agnostic-nms --with-reid"
   ]
  },
  {
   "cell_type": "markdown",
   "metadata": {},
   "source": [
    "### 複数の動画を一括処理する場合"
   ]
  },
  {
   "cell_type": "code",
   "execution_count": null,
   "metadata": {
    "colab": {
     "base_uri": "https://localhost:8080/"
    },
    "executionInfo": {
     "elapsed": 1690377,
     "status": "ok",
     "timestamp": 1678975584505,
     "user": {
      "displayName": "Shinichiro Tabayashi",
      "userId": "16790243129379089608"
     },
     "user_tz": -540
    },
    "id": "tPBRsFiCyboq",
    "outputId": "7283cb9d-9053-46b5-e574-148445940bfb",
    "scrolled": true,
    "tags": []
   },
   "outputs": [],
   "source": [
    "video_name_list = [\n",
    "    \"point_1_1_20221128_0543_1540\",\n",
    "    \"point_1_2_20221128_0542_1539\",\n",
    "    \"point_2_3_20221128_0616_1613\",\n",
    "    \"point_2_4_20221128_0613_1610\",\n",
    "    \"point_3_5_20221128_0630_1625\",\n",
    "    \"point_3_6_20221128_0627_1624\",\n",
    "    \"point_4_7_20221128_0645_1632\",\n",
    "    \"point_5_8_20221128_0648_1125\",\n",
    "    \"point_5_9_20221128_0648_1641\",\n",
    "    \"point_6_10_20221128_0700_1653\",\n",
    "]\n",
    "\n",
    "video_path_list = [f\"./video_10min/{video_name}_10min.wmv\"\n",
    "                        for video_name in video_name_list]\n",
    "\n",
    "# 物体検出を実行\n",
    "for video_path in video_path_list:\n",
    "    !python tools/mc_demo_yolov7.py --weights pretrained/yolov7-d6.pt --source $video_path --fuse-score --agnostic-nms --with-reid"
   ]
  },
  {
   "cell_type": "code",
   "execution_count": null,
   "metadata": {
    "id": "EYt_Vh3R7POa"
   },
   "outputs": [],
   "source": []
  },
  {
   "cell_type": "code",
   "execution_count": null,
   "metadata": {
    "id": "86DjDzvh7PQg"
   },
   "outputs": [],
   "source": []
  }
 ],
 "metadata": {
  "accelerator": "GPU",
  "colab": {
   "authorship_tag": "ABX9TyOpc1/unuDHkGeivOfzaQvj",
   "provenance": []
  },
  "gpuClass": "standard",
  "kernelspec": {
   "display_name": "Python 3 (ipykernel)",
   "language": "python",
   "name": "python3"
  },
  "language_info": {
   "codemirror_mode": {
    "name": "ipython",
    "version": 3
   },
   "file_extension": ".py",
   "mimetype": "text/x-python",
   "name": "python",
   "nbconvert_exporter": "python",
   "pygments_lexer": "ipython3",
   "version": "3.7.16"
  }
 },
 "nbformat": 4,
 "nbformat_minor": 4
}
